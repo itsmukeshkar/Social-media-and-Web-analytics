{
  "nbformat": 4,
  "nbformat_minor": 0,
  "metadata": {
    "colab": {
      "provenance": []
    },
    "kernelspec": {
      "name": "python3",
      "display_name": "Python 3"
    },
    "language_info": {
      "name": "python"
    }
  },
  "cells": [
    {
      "cell_type": "code",
      "source": [
        "import pandas as pd, re\n",
        "\n",
        "file_path = \"/content/puregym_reviews_raw_data.csv\"\n",
        "df = pd.read_csv(file_path, encoding='utf-8-sig')\n",
        "\n",
        "df.columns = df.columns.str.strip()\n",
        "df[\"Rating\"] = pd.to_numeric(df[\"Rating\"], errors=\"coerce\").fillna(0).astype(int)\n",
        "\n",
        "lab_to_sentiment = {1: \"Negative\", 2: \"Negative\", 3: \"Neutral\", 4: \"Positive\", 5: \"Positive\"}\n",
        "df[\"Sentiment\"] = df[\"Rating\"].apply(lambda x: lab_to_sentiment.get(x, \"Unknown\"))\n",
        "\n",
        "def clean_text(text):\n",
        "    if isinstance(text, str):\n",
        "        text = re.sub(r'[^\\w\\s.,!?-]', '', text)\n",
        "        text = re.sub(r'\\s+', ' ', text).strip()\n",
        "    return text\n",
        "\n",
        "if \"content\" in df.columns:\n",
        "    df[\"content\"] = df[\"content\"].apply(clean_text)\n",
        "\n",
        "# Remove \"Unknown\" sentiments and duplicates\n",
        "df = df[df[\"Sentiment\"] != \"Unknown\"]  # Remove \"Unknown\" sentiment\n",
        "df = df.drop_duplicates()  # Remove duplicate rows\n",
        "\n",
        "output_file = \"cleaned_puregym_data.csv\"\n",
        "df.to_csv(output_file, index=False, encoding='utf-8-sig')\n",
        "\n",
        "print(f\"Sentiment analysis completed. Cleaned file saved: {output_file}\")\n"
      ],
      "metadata": {
        "colab": {
          "base_uri": "https://localhost:8080/"
        },
        "id": "ij-mm1m3vDXY",
        "outputId": "894d37b6-df78-4704-e1ed-c8a92d425f61"
      },
      "execution_count": 12,
      "outputs": [
        {
          "output_type": "stream",
          "name": "stdout",
          "text": [
            "Sentiment analysis completed. Cleaned file saved: cleaned_puregym_data.csv\n"
          ]
        }
      ]
    },
    {
      "cell_type": "code",
      "source": [],
      "metadata": {
        "id": "Rk0vnmqqxHT1"
      },
      "execution_count": null,
      "outputs": []
    }
  ]
}